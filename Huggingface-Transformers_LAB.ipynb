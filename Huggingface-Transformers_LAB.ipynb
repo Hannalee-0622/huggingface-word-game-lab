{
 "cells": [
  {
   "cell_type": "markdown",
   "id": "ea6caf52",
   "metadata": {},
   "source": [
    "## **오늘의 목표**\n",
    "\n",
    "- Hugging Face transformers 라이브러리로 텍스트 생성 사용법 이해\n",
    "\n",
    "- NLTK 사전 기반 단어 검증 이해\n",
    "\n",
    "- Gradio를 활용한 간단한 웹 앱 인터페이스 구축\n",
    "\n",
    "- 상태 기반 로직을 이해하고, 중복 방지 및 점수 시스템 구현\n",
    "\n"
   ]
  },
  {
   "cell_type": "markdown",
   "id": "873ac079",
   "metadata": {},
   "source": [
    "1. 필요한 라이브러리들을 설치해주세요.  \n",
    "\n",
    "```!pip install transformers gradio nltk torch```"
   ]
  },
  {
   "cell_type": "code",
   "execution_count": null,
   "id": "958408bc",
   "metadata": {},
   "outputs": [],
   "source": []
  },
  {
   "cell_type": "markdown",
   "id": "4e1fffa2",
   "metadata": {},
   "source": [
    "2. ```nltk.download(\"words\")``` 실행하여 english_vocab 변수를 확인하세요."
   ]
  },
  {
   "cell_type": "code",
   "execution_count": null,
   "id": "3bfa4059",
   "metadata": {},
   "outputs": [],
   "source": []
  },
  {
   "cell_type": "markdown",
   "id": "44786861",
   "metadata": {},
   "source": [
    "3. 사용자로부터 단어를 입력받아 입력한 단어가 포함되어 있는지 확인하는 코드를 작성하세요."
   ]
  },
  {
   "cell_type": "code",
   "execution_count": null,
   "id": "7e2557cf",
   "metadata": {},
   "outputs": [],
   "source": []
  },
  {
   "cell_type": "markdown",
   "id": "306e2e87",
   "metadata": {},
   "source": [
    "4. GPT로 간단하게 단어 생성 실습을 해보겠습니다.  \n",
    "간단한 프롬프트를 작성하여 문장을 생성해보세요."
   ]
  },
  {
   "cell_type": "code",
   "execution_count": null,
   "id": "93b88acd",
   "metadata": {},
   "outputs": [],
   "source": [
    "from transformers import pipeline\n"
   ]
  },
  {
   "cell_type": "markdown",
   "id": "80df21b1",
   "metadata": {},
   "source": [
    "5. 위 결과를 토대로 한계점을 설명하겠습니다.  \n",
    "\n",
    "</br>\n",
    "\n",
    "- **GPT-2 계열 (dustilgpt2)의 구조적 한계**\n",
    "\n",
    "    - ```distilgpt2```는 **GPT-2**의 경량화 모델로, 적은 파라미터 수로 인해 정확도와 문맥 추론 능력이 제한적입니다.\n",
    "\n",
    "    - 단어 하나만 정확히 생성하는 것보다는 문장이나 이야기 생성에 더 적합합니다.\n",
    "\n",
    "- **프롬프트 해석의 유연함**\n",
    "    - GPT 계열 모델은 **자유 생성(free generation)**을 기반으로 작동하므로,  \n",
    "    ```\"Give me a single English word...\"``` 같은 요청을 보고도 리스트, 설명, 정의 등 다양한 방식으로 응답할 수 있습니다.\n",
    "\n",
    "    - 인간이라면 ```\"s로 시작하는 단어: sun\"```처럼 줄 텐데, 모델은 정답이 아니라 문장을 생성하는 데 집중합니다.\n",
    "\n",
    "- **정확한 제어가 어려움**\n",
    "    - ```text-generation``` 파이프라인은 **지시(command)** 수행보다는 자유 텍스트 생성에 적합합니다.\n",
    "\n",
    "    - \"단어만 뽑기\" 같은 작업은 ```text2text```나 ```fill-mask```, 또는 직접 후처리를 더한 커스텀 로직이 필요합니다."
   ]
  },
  {
   "cell_type": "markdown",
   "id": "0bc00f6a",
   "metadata": {},
   "source": [
    "6. 모델을 여러 번 로드하기 때문에 로컬에 다운로드하여 사용하겠습니다.  \n",
    "지시 작업에 더 어울리는 flan-t5 계열의 모델을 다운로드하세요."
   ]
  },
  {
   "cell_type": "code",
   "execution_count": null,
   "id": "a2542d5f",
   "metadata": {},
   "outputs": [],
   "source": [
    "from transformers import pipeline, AutoTokenizer, AutoModelForSeq2SeqLM\n",
    "\n",
    "model_name = \"google/flan-t5-large\"\n",
    "local_path = \"./models/flan-t5-large\"\n"
   ]
  },
  {
   "cell_type": "markdown",
   "id": "06c96d6c",
   "metadata": {},
   "source": [
    "6-1. 다운로드가 완료된 모델을 ```mps```에 올린 뒤에 테스트를 진행해보세요."
   ]
  },
  {
   "cell_type": "code",
   "execution_count": null,
   "id": "23097857",
   "metadata": {},
   "outputs": [],
   "source": [
    "import torch\n",
    "from transformers import pipeline, AutoTokenizer, AutoModelForSeq2SeqLM\n",
    "\n"
   ]
  },
  {
   "cell_type": "markdown",
   "id": "4b05b1b6",
   "metadata": {},
   "source": [
    "7. 원하는대로 결과가 나왔으니 끝말잇기 게임을 만들어보겠습니다. **UI**는 ```Gradio```를 활용하겠습니다.  \n",
    "먼저, 단어들을 다운로드하여 소문자로 전부 변경해주세요."
   ]
  },
  {
   "cell_type": "code",
   "execution_count": null,
   "id": "bc3edc1d",
   "metadata": {},
   "outputs": [],
   "source": [
    "import gradio as gr\n",
    "from transformers import pipeline\n",
    "import re\n",
    "import nltk\n",
    "from nltk.corpus import words\n",
    "\n"
   ]
  },
  {
   "cell_type": "markdown",
   "id": "870806a0",
   "metadata": {},
   "source": [
    "8. 사용자가 입력한 단어의 끝 알파벳만 추출하는 함수를 작성하세요."
   ]
  },
  {
   "cell_type": "code",
   "execution_count": null,
   "id": "4f76934a",
   "metadata": {},
   "outputs": [],
   "source": []
  },
  {
   "cell_type": "markdown",
   "id": "953493e7",
   "metadata": {},
   "source": [
    "9. 입력받은 문자를 기반으로 단어 후보들을 생성한 뒤, nltk 사전으로 검증하는 함수를 작성하세요."
   ]
  },
  {
   "cell_type": "code",
   "execution_count": null,
   "id": "f3d5643c",
   "metadata": {},
   "outputs": [],
   "source": []
  },
  {
   "cell_type": "markdown",
   "id": "c9ff4ffa",
   "metadata": {},
   "source": [
    "10. 함수가 정상적으로 작동하는 것을 확인했으면, 끝말잇기 게임을 실행할 수 있는 함수를 작성해보세요."
   ]
  },
  {
   "cell_type": "code",
   "execution_count": null,
   "id": "4f440acc",
   "metadata": {},
   "outputs": [],
   "source": []
  },
  {
   "cell_type": "markdown",
   "id": "d919dbb4",
   "metadata": {},
   "source": [
    "11. 마지막으로 UI가 되어줄 Gradio 함수를 작성한 뒤, 게임이 정상적으로 실행되는지 테스트해보겠습니다."
   ]
  },
  {
   "cell_type": "code",
   "execution_count": null,
   "id": "ee775d7c",
   "metadata": {},
   "outputs": [],
   "source": []
  },
  {
   "cell_type": "code",
   "execution_count": null,
   "id": "32771e93",
   "metadata": {},
   "outputs": [],
   "source": [
    "import torch\n",
    "\n",
    "if torch.cuda.is_available():\n",
    "    device = torch.device(\"cuda\")\n",
    "    print(\"✅ CUDA 사용 (GPU):\", torch.cuda.get_device_name(0))\n",
    "elif torch.backends.mps.is_available():\n",
    "    device = torch.device(\"mps\")\n",
    "    print(\"✅ MPS 사용 (Apple Silicon)\")\n",
    "else:\n",
    "    device = torch.device(\"cpu\")\n",
    "    print(\"⚠️ GPU 미지원. CPU 사용 중.\")"
   ]
  },
  {
   "cell_type": "code",
   "execution_count": null,
   "id": "1d60461a",
   "metadata": {},
   "outputs": [],
   "source": [
    "import torch\n",
    "\n",
    "# 캐시된 메모리 비우기 (PyTorch 내부 캐시)\n",
    "torch.cuda.empty_cache()\n",
    "\n",
    "# 그래픽 카드가 비어 있는지 확인\n",
    "print(torch.cuda.memory_summary(device=None, abbreviated=False))"
   ]
  }
 ],
 "metadata": {
  "kernelspec": {
   "display_name": "myenv",
   "language": "python",
   "name": "python3"
  },
  "language_info": {
   "codemirror_mode": {
    "name": "ipython",
    "version": 3
   },
   "file_extension": ".py",
   "mimetype": "text/x-python",
   "name": "python",
   "nbconvert_exporter": "python",
   "pygments_lexer": "ipython3",
   "version": "3.12.6"
  }
 },
 "nbformat": 4,
 "nbformat_minor": 5
}
